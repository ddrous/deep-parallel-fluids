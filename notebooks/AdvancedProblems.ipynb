{
 "cells": [
  {
   "cell_type": "code",
   "execution_count": null,
   "metadata": {},
   "outputs": [],
   "source": []
  },
  {
   "cell_type": "markdown",
   "metadata": {},
   "source": [
    "## Metaprogramming Problem"
   ]
  },
  {
   "cell_type": "code",
   "execution_count": 5,
   "metadata": {},
   "outputs": [
    {
     "name": "stdout",
     "output_type": "stream",
     "text": [
      "I execute at parse time. The argument is: :((1, 2, 3))\n"
     ]
    },
    {
     "data": {
      "text/plain": [
       ":(Main.println(\"I execute at runtime. The argument is: \", $(Expr(:copyast, :($(QuoteNode(:((1, 2, 3)))))))))"
      ]
     },
     "metadata": {},
     "output_type": "display_data"
    }
   ],
   "source": [
    "macro twostep(arg)\n",
    "    println(\"I execute at parse time. The argument is: \", arg)\n",
    "    return :(println(\"I execute at runtime. The argument is: \", $arg))\n",
    "end\n",
    "@macroexpand @twostep :(1, 2, 3)"
   ]
  },
  {
   "cell_type": "code",
   "execution_count": 52,
   "metadata": {},
   "outputs": [
    {
     "name": "stdout",
     "output_type": "stream",
     "text": [
      "((5 * 7 + 4) * 7 + 3) * 7 + 2\n"
     ]
    },
    {
     "data": {
      "text/plain": [
       "1934"
      ]
     },
     "metadata": {},
     "output_type": "display_data"
    }
   ],
   "source": [
    "macro myevalpoly(x,a...)\n",
    "    ex = :($(a[length(a)]))\n",
    "    for i in 1:length(a)-1\n",
    "        ex = :($ex *$(x) + $(a[length(a)-i]))\n",
    "    end\n",
    "    println(ex)\n",
    "    ex\n",
    "end\n",
    "\n",
    "\n",
    "# macro myevalpoly(z,a...)\n",
    "#     isempty(a) && error(\"You forgot to pass coefficients!\")\n",
    "#     ex = :($(a[length(a)]))\n",
    "#     for i in 1:length(a)-1\n",
    "#        ex = :($ex * $(z) + $(a[length(a)-i]) ) \n",
    "#     end\n",
    "#     println(ex)\n",
    "#     ex\n",
    "# end\n",
    "\n",
    "a = 3\n",
    "@myevalpoly 7 2 3 4 5"
   ]
  },
  {
   "cell_type": "markdown",
   "metadata": {},
   "source": [
    "## Plot the roots of Wilkinson's polynomial with perturbation"
   ]
  },
  {
   "cell_type": "code",
   "execution_count": null,
   "metadata": {},
   "outputs": [],
   "source": []
  }
 ],
 "metadata": {
  "kernelspec": {
   "display_name": "Julia 1.8.2",
   "language": "julia",
   "name": "julia-1.8"
  },
  "language_info": {
   "file_extension": ".jl",
   "mimetype": "application/julia",
   "name": "julia",
   "version": "1.8.2"
  },
  "orig_nbformat": 4
 },
 "nbformat": 4,
 "nbformat_minor": 2
}
