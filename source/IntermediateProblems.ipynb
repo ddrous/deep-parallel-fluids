{
 "cells": [
  {
   "cell_type": "code",
   "execution_count": 25,
   "metadata": {},
   "outputs": [],
   "source": [
    "struct MyRange{T<:Number} \n",
    "    start:: T\n",
    "    step:: T\n",
    "    stop:: T\n",
    "end"
   ]
  },
  {
   "cell_type": "code",
   "execution_count": 2,
   "metadata": {},
   "outputs": [
    {
     "data": {
      "text/plain": [
       "MyRange{Int64}(1, 2, 20)"
      ]
     },
     "metadata": {},
     "output_type": "display_data"
    }
   ],
   "source": [
    "\n",
    "a = MyRange(1,2,20)\n",
    "a"
   ]
  },
  {
   "cell_type": "code",
   "execution_count": 3,
   "metadata": {},
   "outputs": [
    {
     "data": {
      "text/plain": [
       "_MyRange (generic function with 1 method)"
      ]
     },
     "metadata": {},
     "output_type": "display_data"
    }
   ],
   "source": [
    "function _MyRange(a, i)\n",
    "    (1<= i <= 1+(a.stop-a.start)//a.step) && (res = a.start + (i-1)*a.step)\n",
    "    res\n",
    "end"
   ]
  },
  {
   "cell_type": "code",
   "execution_count": 9,
   "metadata": {},
   "outputs": [
    {
     "data": {
      "text/plain": [
       "9"
      ]
     },
     "metadata": {},
     "output_type": "display_data"
    }
   ],
   "source": [
    "_MyRange(a,5)"
   ]
  },
  {
   "cell_type": "code",
   "execution_count": 13,
   "metadata": {},
   "outputs": [
    {
     "data": {
      "text/plain": [
       "9"
      ]
     },
     "metadata": {},
     "output_type": "display_data"
    }
   ],
   "source": [
    "Base.getindex(a::MyRange, i::Int) = _MyRange(a,i)\n",
    "a[5]"
   ]
  },
  {
   "cell_type": "code",
   "execution_count": null,
   "metadata": {},
   "outputs": [],
   "source": [
    "struct LazyLinSpace\n",
    "    start:: Float64\n",
    "    stop:: Float64\n",
    "    n:: Int64\n",
    "end\n",
    "\n",
    "function Base.getindex(a::MyLinSpace,i::Int)\n",
    "    dx = (a.stop-a.start)/a.n\n",
    "    a.start + dx*(i-1)\n",
    "end\n",
    "\n"
   ]
  },
  {
   "cell_type": "code",
   "execution_count": 43,
   "metadata": {},
   "outputs": [
    {
     "name": "stdout",
     "output_type": "stream",
     "text": [
      "UnitStepRange{Int64}\n"
     ]
    },
    {
     "data": {
      "text/plain": [
       "2.0"
      ]
     },
     "metadata": {},
     "output_type": "display_data"
    }
   ],
   "source": [
    "function interpolate(a, b, x)\n",
    "    if x <0 && x>1\n",
    "        println(\"Out of interpolation range\")\n",
    "    end\n",
    "    (1-x)*a + x*b\n",
    "end\n",
    "\n",
    "mutable struct UnitStepRange{T<:Number} \n",
    "    start:: T\n",
    "    step:: T\n",
    "    stop:: T\n",
    "end\n",
    "\n",
    "Base.getindex(r::UnitStepRange, i::Int64) = _MyRange(r,i)\n",
    "\n",
    "# (r::StepRange)(i::Float64) = interpolate(r[floor(i)], r[floor(i)+1], i-floor(i))\n",
    "(r::UnitStepRange)(i::Float64) = interpolate(r[floor(Int, i)], r[floor(Int, i)+1], i-floor(Int, i))\n",
    "\n",
    "r = UnitStepRange(1,2,20)\n",
    "println(typeof(r))\n",
    "r(1.5)"
   ]
  },
  {
   "cell_type": "code",
   "execution_count": 35,
   "metadata": {},
   "outputs": [
    {
     "data": {
      "text/plain": [
       "6.0"
      ]
     },
     "metadata": {},
     "output_type": "display_data"
    }
   ],
   "source": [
    "mutable struct CallTest\n",
    "    a::Float64 \n",
    "end\n",
    "\n",
    "(c::CallTest)(b::Float64) = c.a*b\n",
    "\n",
    "c = CallTest(2.0)\n",
    "c(3.0)"
   ]
  },
  {
   "cell_type": "code",
   "execution_count": 49,
   "metadata": {},
   "outputs": [
    {
     "name": "stdout",
     "output_type": "stream",
     "text": [
      "[1.0, 1.0, 1.0, 1.0, 1.0, 1.0, 1.0, 1.0, 1.0, 1.0]\n"
     ]
    },
    {
     "data": {
      "text/plain": [
       "10-element Vector{Float64}:\n",
       " -1.0\n",
       "  0.0\n",
       "  0.0\n",
       "  0.0\n",
       "  0.0\n",
       "  0.0\n",
       "  0.0\n",
       "  0.0\n",
       "  0.0\n",
       " -1.0"
      ]
     },
     "metadata": {},
     "output_type": "display_data"
    }
   ],
   "source": [
    "struct StrangMatrix \n",
    "    n\n",
    "end\n",
    "\n",
    "function myfunc(A::StrangMatrix, x::Vector)\n",
    "    y = similar(x)\n",
    "    n = length(x)\n",
    "    y[1] = -2x[1] + x[2]\n",
    "    y[n] = -2x[n] + x[n-1]\n",
    "    for i in 2:n-1\n",
    "        y[i] = x[i-1] - 2x[i] + x[i+1]\n",
    "    end\n",
    "    y\n",
    "end\n",
    "\n",
    "# (A::StrangMatrix)(x::Vector) = myfunc(A, x)\n",
    "Base.:*(A::StrangMatrix,B::Vector) = myfunc(A, x)\n",
    "\n",
    "A = StrangMatrix(4)\n",
    "x = ones(10)\n",
    "\n",
    "println(x)\n",
    "# myfunc(A, x)\n",
    "A*x"
   ]
  },
  {
   "cell_type": "code",
   "execution_count": null,
   "metadata": {},
   "outputs": [],
   "source": []
  }
 ],
 "metadata": {
  "kernelspec": {
   "display_name": "Julia 1.8.2",
   "language": "julia",
   "name": "julia-1.8"
  },
  "language_info": {
   "file_extension": ".jl",
   "mimetype": "application/julia",
   "name": "julia",
   "version": "1.8.2"
  },
  "orig_nbformat": 4
 },
 "nbformat": 4,
 "nbformat_minor": 2
}
